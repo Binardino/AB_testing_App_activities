{
 "cells": [
  {
   "cell_type": "code",
   "execution_count": 16,
   "metadata": {},
   "outputs": [],
   "source": [
    "import pandas as pd\n",
    "import numpy as np"
   ]
  },
  {
   "cell_type": "markdown",
   "metadata": {},
   "source": [
    "### Sensitivity"
   ]
  },
  {
   "cell_type": "markdown",
   "metadata": {},
   "source": [
    "Using parameters provided by the data to measure sensitivity through variants"
   ]
  },
  {
   "cell_type": "code",
   "execution_count": null,
   "metadata": {},
   "outputs": [],
   "source": [
    "#small_sensitivity\n",
    "daily_purchases = 3181.82\n",
    "\n",
    "daily_paywall_views = 91731.86\n",
    "\n",
    "small_sensitivity = 0.1 \n",
    "\n",
    "conversion_rate = 0.03468"
   ]
  },
  {
   "cell_type": "code",
   "execution_count": null,
   "metadata": {},
   "outputs": [],
   "source": [
    "# Computing conversion rate when increased by the percentage of the sensitivity above\n",
    "small_conversion_rate = conversion_rate * (1 + small_sensitivity) \n",
    "\n",
    "# Apply the new conversion rate to compute daily users' increase\n",
    "small_purchasers = daily_paywall_views * small_conversion_rate\n",
    "\n",
    "# Compute Lift by subtracting to the initial daily_purchasers rate\n",
    "purchaser_lift = small_purchasers - daily_purchases\n",
    "\n",
    "print(\"small_conversion_rate :\", round(small_conversion_rate, 5))\n",
    "print(\"small_purchasers rate :\", small_purchasers)\n",
    "print(\"purchaser_lift rate :\", purchaser_lift)"
   ]
  },
  {
   "cell_type": "code",
   "execution_count": null,
   "metadata": {},
   "outputs": [],
   "source": [
    "#medium_sensitivity\n",
    "medium_sensitivity = 0.2\n",
    "\n",
    "# Find the conversion rate when increased by the percentage of the sensitivity above\n",
    "medium_conversion_rate = conversion_rate * (1 + medium_sensitivity) \n",
    "\n",
    "# Apply the new conversion rate to compute daily users' increase\n",
    "medium_purchasers = daily_paywall_views * medium_conversion_rate\n",
    "\n",
    "# Subtract the initial daily_purcahsers number from this new value to see the lift\n",
    "purchaser_lift = medium_purchasers - daily_purchases\n",
    "\n",
    "print(\"medium_conversion_rate :\", round(medium_conversion_rate,5))\n",
    "print(\"medium_purchasers rate :\", medium_purchasers)\n",
    "print(\"purchaser_lift rate :\", purchaser_lift)"
   ]
  },
  {
   "cell_type": "code",
   "execution_count": null,
   "metadata": {
    "scrolled": true
   },
   "outputs": [],
   "source": [
    "#large_sensitivity\n",
    "large_sensitivity = 0.5\n",
    "\n",
    "# Find the conversion rate lift with the sensitivity above\n",
    "large_conversion_rate = conversion_rate * (1 + large_sensitivity)\n",
    "\n",
    "# Find how many more users per day that translates to\n",
    "large_purchasers = daily_paywall_views * large_conversion_rate\n",
    "purchaser_lift = large_purchasers - daily_purchases\n",
    "\n",
    "\n",
    "print(\"large_conversion_rate :\", round(large_conversion_rate, 5))\n",
    "print(\"large_purchasers rate :\", large_purchasers)\n",
    "print(\"purchaser_lift rate :\", purchaser_lift)"
   ]
  },
  {
   "cell_type": "markdown",
   "metadata": {},
   "source": [
    "### Standard error"
   ]
  },
  {
   "cell_type": "markdown",
   "metadata": {},
   "source": [
    "Instead of using built-in function .std() , here we explore how to manually calculate Standard error for a conversion rate"
   ]
  },
  {
   "cell_type": "code",
   "execution_count": 33,
   "metadata": {},
   "outputs": [],
   "source": [
    "# Find the number of paywall views \n",
    "n = 9986 #purchase_data.purchase.count()"
   ]
  },
  {
   "cell_type": "code",
   "execution_count": 36,
   "metadata": {},
   "outputs": [
    {
     "name": "stdout",
     "output_type": "stream",
     "text": [
      "variance : 3.352423152413379e-06\n",
      "Standard error : 0.0018309623569078037\n"
     ]
    }
   ],
   "source": [
    "# Find the number of paywall views \n",
    "# n = purchase_data.purchase.count()\n",
    "\n",
    "# Calculate the quantity \"v\"\n",
    "v = conversion_rate * (1 - conversion_rate) \n",
    "\n",
    "# Calculate the variance and standard error of the estimate\n",
    "var = v / n \n",
    "se = var**0.5\n",
    "\n",
    "print(\"variance :\", var)\n",
    "print(\"Standard error :\", se)"
   ]
  },
  {
   "cell_type": "code",
   "execution_count": null,
   "metadata": {},
   "outputs": [],
   "source": []
  },
  {
   "cell_type": "code",
   "execution_count": null,
   "metadata": {},
   "outputs": [],
   "source": [
    "testgroup_results_df = pd.read_csv('../../data/user_demographics_paywall.csv')\n",
    "\n",
    "testgroup_results_df"
   ]
  },
  {
   "cell_type": "code",
   "execution_count": null,
   "metadata": {},
   "outputs": [],
   "source": [
    "group_test = testgroup_results_df.groupby(by=['group']).uid.count()\n",
    "\n",
    "group_test"
   ]
  },
  {
   "cell_type": "code",
   "execution_count": null,
   "metadata": {},
   "outputs": [],
   "source": [
    "test_merged = pd.merge(testgroup_results_df, user_data_df, how='inner', on='uid')\n",
    "\n",
    "test_merged"
   ]
  },
  {
   "cell_type": "code",
   "execution_count": null,
   "metadata": {},
   "outputs": [],
   "source": [
    "user_data_df"
   ]
  },
  {
   "cell_type": "code",
   "execution_count": null,
   "metadata": {},
   "outputs": [],
   "source": []
  }
 ],
 "metadata": {
  "kernelspec": {
   "display_name": "Python 3.8.0 64-bit",
   "language": "python",
   "name": "python38064bitd0769e4d01074ad79ec9961b00779271"
  },
  "language_info": {
   "codemirror_mode": {
    "name": "ipython",
    "version": 3
   },
   "file_extension": ".py",
   "mimetype": "text/x-python",
   "name": "python",
   "nbconvert_exporter": "python",
   "pygments_lexer": "ipython3",
   "version": "3.8.0"
  }
 },
 "nbformat": 4,
 "nbformat_minor": 4
}
